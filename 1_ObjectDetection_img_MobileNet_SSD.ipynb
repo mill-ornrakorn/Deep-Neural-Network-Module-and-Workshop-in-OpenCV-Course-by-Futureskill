{
 "cells": [
  {
   "cell_type": "markdown",
   "id": "103b28ed",
   "metadata": {},
   "source": [
    "# Object Detection กับ img"
   ]
  },
  {
   "cell_type": "markdown",
   "id": "6a2a623c",
   "metadata": {},
   "source": [
    "---"
   ]
  },
  {
   "cell_type": "markdown",
   "id": "1116fe0f",
   "metadata": {},
   "source": [
    "## ใช้ MobileNet_SSD กับรูป"
   ]
  },
  {
   "cell_type": "code",
   "execution_count": 1,
   "id": "7267cabd",
   "metadata": {},
   "outputs": [],
   "source": [
    "import numpy as np\n",
    "import cv2 \n",
    "\n",
    "# --- Labels of Network. ---\n",
    "# ได้จากตอนโหลด model zoo มา คือ list ของ obj. ที่ model นี้สามารถ detect ได้ \n",
    "# โดย model ที่อาจารย์ยกตัวอย่างมาคือ mobilenet_SSD และ VGG_SSD มีการใช้ classNames ร่วมกัน จึงมีการ detect obj. ได้เท่ากัน\n",
    "classNames = { 0: 'background', # คือ ไม่เจออะไรเลย\n",
    "    1: 'aeroplane', 2: 'bicycle', 3: 'bird', 4: 'boat',\n",
    "    5: 'bottle', 6: 'bus', 7: 'car', 8: 'cat', 9: 'chair',\n",
    "    10: 'cow', 11: 'diningtable', 12: 'dog', 13: 'horse',\n",
    "    14: 'motorbike', 15: 'person', 16: 'pottedplant',\n",
    "    17: 'sheep', 18: 'sofa', 19: 'train', 20: 'tvmonitor' }\n",
    "\n",
    "\n",
    "# --- Load the Caffe model ---\n",
    "# สร้างมาจากแพลตฟอร์ม Caffe\n",
    "# parameter ตัวแรก: MobileNetSSD_deploy.prototxt คือ จะเป็นตัวบอกข้อมูลข้างในของ network ว่ามีอะไรบ้าง\n",
    "# parameter ตัวที่สอง: MobileNetSSD_deploy.caffemodel คือ weight ของ model ว่า train มาอย่างไร\n",
    "net = cv2.dnn.readNetFromCaffe('MobileNetSSD_deploy.prototxt', 'MobileNetSSD_deploy.caffemodel') \n",
    "\n",
    "# --- เตรียมรูป ---\n",
    "# โหลดรูปที่จะใช้\n",
    "img = cv2.imread('ways.jpg')\n",
    "\n",
    "# convert รูปเป็น blob file\n",
    "blob = cv2.dnn.blobFromImage(img, 0.007843, (300, 300), (127.5, 127.5, 127.5), False)\n",
    "\n",
    "# Set to network the input blob เอา blob มาใส่เป็น input\n",
    "net.setInput(blob)\n",
    "\n",
    "# Prediction of network \n",
    "# สั่งให้คำนวน จะได้เป็น list obj. ที่หาเจอ\n",
    "detections = net.forward()\n",
    "\n",
    "# Size of image \n",
    "# เก็บค่าของ height และ width ของรูปเดิมไว้ก่อน เพื่อจะได้คูณกลับเป็นรูปเดิมตอนถูกย่อขนาดรูปแล้ว\n",
    "height = img.shape[0]  \n",
    "width = img.shape[1] \n",
    "\n",
    "# --- Locate location and class of object detected ---\n",
    "# There is a fix index for class, location and confidence\n",
    "# loop เข้าไปใน list ของ detections ที่เกิดขึ้น ว่าในนั้นมีกี่ตัว และแต่ละตัวเป็นตำแหน่งไหนบ้าง\n",
    "for i in range(detections.shape[2]):\n",
    "    confidence = detections[0, 0, i, 2] #Confidence of prediction \n",
    "    # ตัว detections จะมีรูปแบบมิติของ matrix อยู่ประมาณนี้ [0, 0, i, 2] โดย index ที่ 1, 2 จะเป็น dimention ว่าง หรือ 1 \n",
    "    # ซึ่งเราสนใจที่ index 3, 4 \n",
    "        # โดย index ที่ 3 คือ ลำดับของ obj. ที่เราเจอว่าเป็นตัวที่เท่าไร เช่น ตัวที่ 1 ในรูป ตัวที่ 2 ในรูป \n",
    "        # index ที่ 4 ช่องที่ 2 คือ ค่า confidence เป็นค่าความมั่นใจว่า obj. ที่เจอเป็นชนิดนีกี่ % \n",
    "\n",
    "    if confidence > 0.3: # Filter prediction \n",
    "        class_id = int(detections[0, 0, i, 1]) # Class label # index ที่ 4 ช่องที่ 1 คือ class_id ว่าคือชนิดใด\n",
    "        \n",
    "        # Scale detection frame ที่จะเอามาวาดกรอบบนรูป\n",
    "        # โดยเอาค่าขนาดรูปเดิมมาคูณกับค่าที่ได้ เพราะค่าที่ได้ถูก normalize จนเหลือ 0 กับ 1 เท่านั้น พอเอามาคุณกับค่าเดิมของมันก็จะได้ขนาดรูปเดิมมาที่ตำแหน่งเดิม\n",
    "        xLeftBottom = int(width * detections[0, 0, i, 3])  # index ที่ 4 ช่องที่ 3 คือ จุด xLeftBottom\n",
    "        yLeftBottom = int(height * detections[0, 0, i, 4]) # index ที่ 4 ช่องที่ 4 คือ จุด yLeftBottom\n",
    "        xRightTop   = int(width * detections[0, 0, i, 5]) # index ที่ 4 ช่องที่ 5 คือ จุด xRightTop\n",
    "        yRightTop   = int(height * detections[0, 0, i, 6]) # index ที่ 4 ช่องที่ 6 คือ จุด yRightTop\n",
    "\n",
    "        # Draw location เอามาวาดกรอบสี่เหลี่ยมทับตำแหน่งนั้นเลย เพื่อดูว่ามัน detect เจอจริง ๆ มั้ย\n",
    "        cv2.rectangle(img, (xLeftBottom, yLeftBottom), (xRightTop, yRightTop),(0, 255, 0))\n",
    "\n",
    "        # Draw label and confidence\n",
    "        label = classNames[class_id] + \": \" + str(confidence) # เอาค่า class_id (ชื่อชนิด)กับค่า confidence\n",
    "        # พิมพ์ตัวอักษรใส่เข้าไปในรูป\n",
    "        labelSize, baseLine = cv2.getTextSize(label, cv2.FONT_HERSHEY_SIMPLEX, 0.5, 1)\n",
    "\n",
    "        yLeftBottom = max(yLeftBottom, labelSize[1])\n",
    "        # วาดสี่เหลี่ยมทับ และไฮไลท์พื้นหลังของตัวอักษรเป็นสีขาวจะได้เห็นชัด ๆ \n",
    "        cv2.rectangle(img, (xLeftBottom, yLeftBottom - labelSize[1]),\n",
    "                                (xLeftBottom + labelSize[0], yLeftBottom + baseLine),\n",
    "                                (255, 255, 255), cv2.FILLED)\n",
    "        #วาด class_id (ชื่อชนิด)กับค่า confidence\n",
    "        cv2.putText(img, label, (xLeftBottom, yLeftBottom),cv2.FONT_HERSHEY_SIMPLEX, 0.5, (0, 0, 0))\n",
    "\n",
    "# แสดงรูป\n",
    "cv2.imshow('img',img)\n",
    "cv2.waitKey(0)\n",
    "cv2.destroyAllWindows()\n",
    "\n"
   ]
  },
  {
   "cell_type": "markdown",
   "id": "07496a93",
   "metadata": {},
   "source": [
    "เมื่อ run เสร็จแล้วจะได้หน้าต่างด้านล่างขึ้นมา โดยจะแสดง obj. และค่า confidence นั้น ๆ ออกมา"
   ]
  },
  {
   "cell_type": "markdown",
   "id": "81b109c9",
   "metadata": {},
   "source": [
    "![alt text](result_1.jpg)"
   ]
  },
  {
   "cell_type": "markdown",
   "id": "8e20b599",
   "metadata": {},
   "source": [
    "จะเห็นว่า model นี้จะแม่นยำกับการตรวจจับรถมาก แต่ยังมีการตรวจจับ obj บางชนิดผิดอยู่ เช่น ตรวจจับเสาเป็นคน \n",
    "ส่วนตัวคิดว่ารูปนี้ถ้ามองไกล ๆ มองผ่าน ๆ เสาอันนี้ก็ดูเหมือนคนนิดนึง จึงไม่แปลกที่ model ก็อาจตรวจจับได้ เพราะข้อมูลที่ดีคือข้อมูลที่มนุษย์เราก็สามารถมองออกและมองรู้เรื่องว่ามันคืออะไรด้วย"
   ]
  },
  {
   "cell_type": "markdown",
   "id": "670a43da",
   "metadata": {},
   "source": [
    "---"
   ]
  }
 ],
 "metadata": {
  "kernelspec": {
   "display_name": "Python 3 (ipykernel)",
   "language": "python",
   "name": "python3"
  },
  "language_info": {
   "codemirror_mode": {
    "name": "ipython",
    "version": 3
   },
   "file_extension": ".py",
   "mimetype": "text/x-python",
   "name": "python",
   "nbconvert_exporter": "python",
   "pygments_lexer": "ipython3",
   "version": "3.9.13"
  }
 },
 "nbformat": 4,
 "nbformat_minor": 5
}
